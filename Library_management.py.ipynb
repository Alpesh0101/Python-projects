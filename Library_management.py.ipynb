{
 "cells": [
  {
   "cell_type": "code",
   "execution_count": 2,
   "id": "8c414e05",
   "metadata": {},
   "outputs": [
    {
     "name": "stdout",
     "output_type": "stream",
     "text": [
      "Enter the books\n",
      "Enter the your favrites books 3\n",
      "Python\n",
      "Java\n",
      "C\n"
     ]
    }
   ],
   "source": [
    "# create the library class management in python project the begginer.\n",
    "class Library:\n",
    "    def __init__(self):\n",
    "        print(\"Enter the books\")\n",
    "        self.noofbook=0\n",
    "        self.book=[]\n",
    "    def addbook(self, book):\n",
    "        self.book.append(book)\n",
    "        self.noofbook=len(self.book)\n",
    "    def Showdetails(self):\n",
    "        print(f\"Enter the your favrites books {self.noofbook}\")\n",
    "        for books in self.book:\n",
    "            print(books)\n",
    "lib=Library()\n",
    "lib.addbook(\"Python\")\n",
    "lib.addbook(\"Java\")\n",
    "lib.addbook(\"C\")\n",
    "lib.Showdetails()\n",
    "\n",
    "        "
   ]
  }
 ],
 "metadata": {
  "kernelspec": {
   "display_name": "Python 3 (ipykernel)",
   "language": "python",
   "name": "python3"
  },
  "language_info": {
   "codemirror_mode": {
    "name": "ipython",
    "version": 3
   },
   "file_extension": ".py",
   "mimetype": "text/x-python",
   "name": "python",
   "nbconvert_exporter": "python",
   "pygments_lexer": "ipython3",
   "version": "3.10.5"
  }
 },
 "nbformat": 4,
 "nbformat_minor": 5
}
