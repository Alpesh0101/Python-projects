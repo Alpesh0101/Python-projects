{
 "cells": [
  {
   "cell_type": "code",
   "execution_count": null,
   "id": "d4f26b97",
   "metadata": {},
   "outputs": [],
   "source": []
  },
  {
   "cell_type": "code",
   "execution_count": 10,
   "id": "84290494",
   "metadata": {},
   "outputs": [],
   "source": [
    "# import seaborn as sns\n",
    "import matplotlib.pyplot as plt\n",
    "import pandas as pd\n",
    "import numpy as np\n",
    "# from numpy.random import randin\n",
    "from matplotlib import rcParams\n",
    "from pandas import Series, DataFrame"
   ]
  },
  {
   "cell_type": "code",
   "execution_count": 18,
   "id": "72d8c40e",
   "metadata": {},
   "outputs": [
    {
     "name": "stdout",
     "output_type": "stream",
     "text": [
      "this is the class method\n",
      "10\n",
      "print the second static methods\n",
      "30\n",
      "60\n"
     ]
    }
   ],
   "source": [
    "# # creating the line plots(Bar, Char, Hist)\n",
    "# import seaborn as sns\n",
    "# rcParams['figure.figsize']=5,3\n",
    "\n",
    "def add(a,b):\n",
    "    return a+b\n",
    "class static:\n",
    "    def __init__(self, num):\n",
    "        print(\"this is the class method\")\n",
    "        self.num=num\n",
    "    def myfunc1(self, n):\n",
    "        print(\"print the second static methods\")\n",
    "        self.num=self.num+n\n",
    "    def myfunc2(self, m):\n",
    "        self.num=self.num+m\n",
    "    @staticmethod\n",
    "    def add(a,b):\n",
    "        return a+b\n",
    "a=static(10)\n",
    "print(a.num)\n",
    "a.myfunc1(20)\n",
    "print(a.num)\n",
    "a.myfunc2(30)\n",
    "print(a.num)\n",
    "# a=myfunc()\n",
    "\n"
   ]
  },
  {
   "cell_type": "code",
   "execution_count": 37,
   "id": "b6409778",
   "metadata": {},
   "outputs": [
    {
     "name": "stdout",
     "output_type": "stream",
     "text": [
      "print the employee details\n",
      "print the Amazon name of the employee Alpesh and amount is the 0.03 and no of employees is 1\n",
      "print the Microsoft name of the employee Alpesh and amount is the 10 and no of employees is 1\n",
      "Amazon\n",
      "print the employee details\n",
      "print the Amazon name of the employee Appu and amount is the 0.03 and no of employees is 2\n",
      "Amazon\n",
      "print the employee details\n",
      "print the Amazon name of the employee Appu and amount is the 0.03 and no of employees is 3\n",
      "Amazon\n"
     ]
    }
   ],
   "source": [
    "# create the instance variables and class methods in python\n",
    "class new:\n",
    "    company=\"Google\"\n",
    "    company=\"Amazon\"\n",
    "    no_employees=0\n",
    "    def __init__(self, name):\n",
    "        print(\"print the employee details\")\n",
    "        self.name=name\n",
    "        self.raise_amount=0.03\n",
    "        new.no_employees+=1\n",
    "    def showDetails(self):\n",
    "        print(f\"print the {self.company} name of the employee {self.name} and amount is the {self.raise_amount} and no of employees is {self.no_employees}\")\n",
    "a=new(\"Alpesh\")\n",
    "a.showDetails()\n",
    "a.raise_amount=10\n",
    "a.company=\"Microsoft\"\n",
    "new.showDetails(a)\n",
    "print(new.company)\n",
    "\n",
    "# create the second variable.\n",
    "b=new(\"Appu\")\n",
    "b.showDetails()\n",
    "b.company=\"Walmart\"\n",
    "print(new.company)\n",
    "c=new(\"Appu\")\n",
    "c.showDetails()\n",
    "c.company=\"Walmart\"\n",
    "print(new.company)\n",
    "    "
   ]
  }
 ],
 "metadata": {
  "celltoolbar": "Edit Metadata",
  "kernelspec": {
   "display_name": "Python 3 (ipykernel)",
   "language": "python",
   "name": "python3"
  },
  "language_info": {
   "codemirror_mode": {
    "name": "ipython",
    "version": 3
   },
   "file_extension": ".py",
   "mimetype": "text/x-python",
   "name": "python",
   "nbconvert_exporter": "python",
   "pygments_lexer": "ipython3",
   "version": "3.10.5"
  }
 },
 "nbformat": 4,
 "nbformat_minor": 5
}
